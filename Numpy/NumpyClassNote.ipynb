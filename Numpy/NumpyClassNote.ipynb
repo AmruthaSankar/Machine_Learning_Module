{
 "cells": [
  {
   "cell_type": "code",
   "execution_count": 1,
   "id": "a6077ec6",
   "metadata": {},
   "outputs": [],
   "source": [
    "#pip install numpy\n"
   ]
  },
  {
   "cell_type": "code",
   "execution_count": 2,
   "id": "b5647897",
   "metadata": {},
   "outputs": [],
   "source": [
    "import numpy as np"
   ]
  },
  {
   "cell_type": "code",
   "execution_count": 3,
   "id": "0e001d2c",
   "metadata": {},
   "outputs": [],
   "source": [
    "myList=[1,2,3,4,5]"
   ]
  },
  {
   "cell_type": "code",
   "execution_count": 4,
   "id": "041a44f8",
   "metadata": {},
   "outputs": [
    {
     "name": "stdout",
     "output_type": "stream",
     "text": [
      "[1, 2, 3, 4, 5]\n"
     ]
    }
   ],
   "source": [
    "print(myList)"
   ]
  },
  {
   "cell_type": "code",
   "execution_count": 5,
   "id": "367a3287",
   "metadata": {},
   "outputs": [
    {
     "data": {
      "text/plain": [
       "list"
      ]
     },
     "execution_count": 5,
     "metadata": {},
     "output_type": "execute_result"
    }
   ],
   "source": [
    "type(myList)"
   ]
  },
  {
   "cell_type": "code",
   "execution_count": 6,
   "id": "c14dd26b",
   "metadata": {},
   "outputs": [],
   "source": [
    "#dir(np)"
   ]
  },
  {
   "cell_type": "code",
   "execution_count": 7,
   "id": "82e35f0a",
   "metadata": {},
   "outputs": [],
   "source": [
    "#help(np)"
   ]
  },
  {
   "cell_type": "code",
   "execution_count": 8,
   "id": "5b07aaf4",
   "metadata": {},
   "outputs": [],
   "source": [
    "arr = np.array(myList)"
   ]
  },
  {
   "cell_type": "code",
   "execution_count": 9,
   "id": "adaa4860",
   "metadata": {},
   "outputs": [
    {
     "name": "stdout",
     "output_type": "stream",
     "text": [
      "[1 2 3 4 5]\n",
      "<class 'numpy.ndarray'>\n"
     ]
    }
   ],
   "source": [
    "print(arr)\n",
    "print(type(arr))"
   ]
  },
  {
   "cell_type": "code",
   "execution_count": 10,
   "id": "46579ef6",
   "metadata": {},
   "outputs": [
    {
     "data": {
      "text/plain": [
       "(5,)"
      ]
     },
     "execution_count": 10,
     "metadata": {},
     "output_type": "execute_result"
    }
   ],
   "source": [
    "#shape of the array\n",
    "arr.shape"
   ]
  },
  {
   "cell_type": "code",
   "execution_count": 11,
   "id": "7d591012",
   "metadata": {},
   "outputs": [
    {
     "data": {
      "text/plain": [
       "5"
      ]
     },
     "execution_count": 11,
     "metadata": {},
     "output_type": "execute_result"
    }
   ],
   "source": [
    "arr.size"
   ]
  },
  {
   "cell_type": "code",
   "execution_count": 12,
   "id": "9acc3752",
   "metadata": {},
   "outputs": [],
   "source": [
    "my_lst1=[1,2,3,4,5]\n",
    "my_lst2=[2,3,4,5,6]\n",
    "my_lst3=[9,7,6,8,9]\n",
    "\n",
    "arr=np.array([my_lst1,my_lst2,my_lst3])"
   ]
  },
  {
   "cell_type": "code",
   "execution_count": 13,
   "id": "77089f49",
   "metadata": {},
   "outputs": [
    {
     "data": {
      "text/plain": [
       "array([[1, 2, 3, 4, 5],\n",
       "       [2, 3, 4, 5, 6],\n",
       "       [9, 7, 6, 8, 9]])"
      ]
     },
     "execution_count": 13,
     "metadata": {},
     "output_type": "execute_result"
    }
   ],
   "source": [
    "arr"
   ]
  },
  {
   "cell_type": "code",
   "execution_count": 14,
   "id": "f0072035",
   "metadata": {},
   "outputs": [],
   "source": [
    "#Numpy arrayindexing\n",
    "\n",
    "# Get the first element from the following array:\n",
    "\n",
    "my_lst1=[1,2,3,4,5]\n",
    "arr = np.array(my_lst1)"
   ]
  },
  {
   "cell_type": "code",
   "execution_count": 15,
   "id": "9f439f2c",
   "metadata": {},
   "outputs": [
    {
     "data": {
      "text/plain": [
       "array([1, 2, 3, 4, 5])"
      ]
     },
     "execution_count": 15,
     "metadata": {},
     "output_type": "execute_result"
    }
   ],
   "source": [
    "arr"
   ]
  },
  {
   "cell_type": "code",
   "execution_count": 16,
   "id": "6a348fe7",
   "metadata": {},
   "outputs": [
    {
     "name": "stdout",
     "output_type": "stream",
     "text": [
      "1\n"
     ]
    }
   ],
   "source": [
    "print(arr[0])"
   ]
  },
  {
   "cell_type": "code",
   "execution_count": 17,
   "id": "24bf4bb4",
   "metadata": {},
   "outputs": [
    {
     "name": "stdout",
     "output_type": "stream",
     "text": [
      "2\n"
     ]
    }
   ],
   "source": [
    "# Get the second element from the following array.\n",
    "print(arr[1])"
   ]
  },
  {
   "cell_type": "code",
   "execution_count": 18,
   "id": "2ea2c430",
   "metadata": {},
   "outputs": [
    {
     "name": "stdout",
     "output_type": "stream",
     "text": [
      "The third element is: 3 and fourth element is: 4\n"
     ]
    }
   ],
   "source": [
    "# Get third and fourth elements from the following array and add them.\n",
    "print(\"The third element is:\",arr[2],\"and fourth element is:\",arr[3])\n",
    "\n"
   ]
  },
  {
   "cell_type": "code",
   "execution_count": 19,
   "id": "34e4e7fb",
   "metadata": {},
   "outputs": [],
   "source": [
    "# Access 2D array\n",
    "\n",
    "my_lst1=[1,2,3,4,5]\n",
    "my_lst2=[2,3,4,5,6]\n",
    "my_lst3=[9,7,6,8,9]\n",
    "\n",
    "arr=np.array([my_lst1,my_lst2,my_lst3])"
   ]
  },
  {
   "cell_type": "raw",
   "id": "9368085c",
   "metadata": {},
   "source": []
  },
  {
   "cell_type": "code",
   "execution_count": 20,
   "id": "796ec7c1",
   "metadata": {},
   "outputs": [
    {
     "data": {
      "text/plain": [
       "array([[1, 2, 3, 4, 5],\n",
       "       [2, 3, 4, 5, 6],\n",
       "       [9, 7, 6, 8, 9]])"
      ]
     },
     "execution_count": 20,
     "metadata": {},
     "output_type": "execute_result"
    }
   ],
   "source": [
    "arr"
   ]
  },
  {
   "cell_type": "code",
   "execution_count": 21,
   "id": "cbe9dbc8",
   "metadata": {},
   "outputs": [
    {
     "data": {
      "text/plain": [
       "4"
      ]
     },
     "execution_count": 21,
     "metadata": {},
     "output_type": "execute_result"
    }
   ],
   "source": [
    "arr[1,2]"
   ]
  },
  {
   "cell_type": "code",
   "execution_count": 22,
   "id": "cb7573a2",
   "metadata": {},
   "outputs": [
    {
     "name": "stdout",
     "output_type": "stream",
     "text": [
      "2nd element on 1st row: 2\n"
     ]
    }
   ],
   "source": [
    "print('2nd element on 1st row:',arr[0,1])"
   ]
  },
  {
   "cell_type": "code",
   "execution_count": 23,
   "id": "881cd78d",
   "metadata": {},
   "outputs": [
    {
     "data": {
      "text/plain": [
       "6"
      ]
     },
     "execution_count": 23,
     "metadata": {},
     "output_type": "execute_result"
    }
   ],
   "source": [
    "#Access the element on the 2nd row,5th column:\n",
    "arr[1,4]"
   ]
  },
  {
   "cell_type": "code",
   "execution_count": 24,
   "id": "9f98f435",
   "metadata": {},
   "outputs": [
    {
     "name": "stdout",
     "output_type": "stream",
     "text": [
      "printing the variable value [[1 2 3]\n",
      " [4 5 6]]\n",
      "\n",
      "\n",
      "printing the size: 6 \n",
      "\n",
      "printing the shape: (2, 3) \n",
      "\n",
      "Indexing 1st row: 1 \n",
      "\n",
      "Indexing 2nd row: 6 \n",
      "\n"
     ]
    }
   ],
   "source": [
    "valArr = np.array([[1,2,3],[4,5,6]]) #create a 2D array\n",
    "#print the variable\n",
    "#get shape\n",
    "#get size\n",
    "#index:first row first element\n",
    "#index:second row third element\n",
    "print(\"printing the variable value\",valArr)\n",
    "print(\"\\n\")\n",
    "print(\"printing the size:\",valArr.size,\"\\n\")\n",
    "print(\"printing the shape:\",valArr.shape,\"\\n\")\n",
    "print(\"Indexing 1st row:\",valArr[0,0],\"\\n\")\n",
    "print(\"Indexing 2nd row:\",valArr[1,2],\"\\n\")"
   ]
  },
  {
   "cell_type": "code",
   "execution_count": 25,
   "id": "fe1230ac",
   "metadata": {},
   "outputs": [
    {
     "name": "stdout",
     "output_type": "stream",
     "text": [
      "[[1 2 3]\n",
      " [4 5 6]]\n"
     ]
    }
   ],
   "source": [
    "# Negative Indexing\n",
    "\n",
    "valArr= np.array([[1,2,3],[4,5,6]])\n",
    "print(valArr)"
   ]
  },
  {
   "cell_type": "code",
   "execution_count": 26,
   "id": "a8e17b94",
   "metadata": {},
   "outputs": [
    {
     "data": {
      "text/plain": [
       "5"
      ]
     },
     "execution_count": 26,
     "metadata": {},
     "output_type": "execute_result"
    }
   ],
   "source": [
    "valArr[1,-2]"
   ]
  },
  {
   "cell_type": "code",
   "execution_count": 27,
   "id": "d7387d40",
   "metadata": {},
   "outputs": [
    {
     "name": "stdout",
     "output_type": "stream",
     "text": [
      "[ 1  2  3  4  5  6  7  8  9 10]\n"
     ]
    }
   ],
   "source": [
    "#Numpy Array Slicing\n",
    "\n",
    "mylist=[1,2,3,4,5,6,7,8,9,10]\n",
    "\n",
    "arr = np.array(mylist)\n",
    "\n",
    "print(arr)"
   ]
  },
  {
   "cell_type": "code",
   "execution_count": 28,
   "id": "f2b51f7f",
   "metadata": {},
   "outputs": [
    {
     "data": {
      "text/plain": [
       "array([1, 2, 3, 4, 5])"
      ]
     },
     "execution_count": 28,
     "metadata": {},
     "output_type": "execute_result"
    }
   ],
   "source": [
    "#arr[start end]\n",
    "arr[0:5]"
   ]
  },
  {
   "cell_type": "code",
   "execution_count": 29,
   "id": "6ec41fee",
   "metadata": {},
   "outputs": [
    {
     "data": {
      "text/plain": [
       "array([ 4,  5,  6,  7,  8,  9, 10])"
      ]
     },
     "execution_count": 29,
     "metadata": {},
     "output_type": "execute_result"
    }
   ],
   "source": [
    "arr[3:]"
   ]
  },
  {
   "cell_type": "code",
   "execution_count": 30,
   "id": "6fb1ff27",
   "metadata": {},
   "outputs": [
    {
     "data": {
      "text/plain": [
       "array([1, 2, 3, 4, 5])"
      ]
     },
     "execution_count": 30,
     "metadata": {},
     "output_type": "execute_result"
    }
   ],
   "source": [
    "arr[0:5]"
   ]
  },
  {
   "cell_type": "code",
   "execution_count": 31,
   "id": "4a62e914",
   "metadata": {},
   "outputs": [
    {
     "data": {
      "text/plain": [
       "array([1, 2, 3, 4, 5, 6, 7, 8, 9])"
      ]
     },
     "execution_count": 31,
     "metadata": {},
     "output_type": "execute_result"
    }
   ],
   "source": [
    "arr[:-1]"
   ]
  },
  {
   "cell_type": "code",
   "execution_count": 32,
   "id": "69f3f896",
   "metadata": {},
   "outputs": [
    {
     "data": {
      "text/plain": [
       "array([8, 9])"
      ]
     },
     "execution_count": 32,
     "metadata": {},
     "output_type": "execute_result"
    }
   ],
   "source": [
    "arr[-3:-1]"
   ]
  },
  {
   "cell_type": "code",
   "execution_count": 33,
   "id": "e106e315",
   "metadata": {},
   "outputs": [
    {
     "name": "stdout",
     "output_type": "stream",
     "text": [
      "[ 1  2  3  4  5  6  7  8  9 10]\n"
     ]
    }
   ],
   "source": [
    "print(arr)"
   ]
  },
  {
   "cell_type": "code",
   "execution_count": 34,
   "id": "7c3be2b7",
   "metadata": {},
   "outputs": [
    {
     "data": {
      "text/plain": [
       "array([1, 3, 5, 7, 9])"
      ]
     },
     "execution_count": 34,
     "metadata": {},
     "output_type": "execute_result"
    }
   ],
   "source": [
    "#step\n",
    "arr[::2]"
   ]
  },
  {
   "cell_type": "code",
   "execution_count": 35,
   "id": "5fdacf82",
   "metadata": {},
   "outputs": [
    {
     "data": {
      "text/plain": [
       "array([2, 5, 8])"
      ]
     },
     "execution_count": 35,
     "metadata": {},
     "output_type": "execute_result"
    }
   ],
   "source": [
    "arr[1::3]"
   ]
  },
  {
   "cell_type": "code",
   "execution_count": 36,
   "id": "ea434fe5",
   "metadata": {},
   "outputs": [
    {
     "data": {
      "text/plain": [
       "array([ 2,  6, 10])"
      ]
     },
     "execution_count": 36,
     "metadata": {},
     "output_type": "execute_result"
    }
   ],
   "source": [
    "arr[1::4]"
   ]
  },
  {
   "cell_type": "code",
   "execution_count": 37,
   "id": "de2e2ece",
   "metadata": {},
   "outputs": [
    {
     "data": {
      "text/plain": [
       "array([0, 1, 2, 3, 4, 5, 6, 7, 8, 9])"
      ]
     },
     "execution_count": 37,
     "metadata": {},
     "output_type": "execute_result"
    }
   ],
   "source": [
    "#Arange function\n",
    "\n",
    "np.arange(10)"
   ]
  },
  {
   "cell_type": "code",
   "execution_count": 38,
   "id": "03af609b",
   "metadata": {},
   "outputs": [
    {
     "data": {
      "text/plain": [
       "array([10, 11, 12, 13, 14, 15, 16, 17, 18, 19])"
      ]
     },
     "execution_count": 38,
     "metadata": {},
     "output_type": "execute_result"
    }
   ],
   "source": [
    "np.arange(10,20)"
   ]
  },
  {
   "cell_type": "code",
   "execution_count": 39,
   "id": "917d7857",
   "metadata": {},
   "outputs": [
    {
     "data": {
      "text/plain": [
       "array([10, 12, 14, 16, 18, 20])"
      ]
     },
     "execution_count": 39,
     "metadata": {},
     "output_type": "execute_result"
    }
   ],
   "source": [
    "np.arange(10,21,2)"
   ]
  },
  {
   "cell_type": "code",
   "execution_count": 40,
   "id": "7a254443",
   "metadata": {},
   "outputs": [
    {
     "data": {
      "text/plain": [
       "array([  0.        ,   2.04081633,   4.08163265,   6.12244898,\n",
       "         8.16326531,  10.20408163,  12.24489796,  14.28571429,\n",
       "        16.32653061,  18.36734694,  20.40816327,  22.44897959,\n",
       "        24.48979592,  26.53061224,  28.57142857,  30.6122449 ,\n",
       "        32.65306122,  34.69387755,  36.73469388,  38.7755102 ,\n",
       "        40.81632653,  42.85714286,  44.89795918,  46.93877551,\n",
       "        48.97959184,  51.02040816,  53.06122449,  55.10204082,\n",
       "        57.14285714,  59.18367347,  61.2244898 ,  63.26530612,\n",
       "        65.30612245,  67.34693878,  69.3877551 ,  71.42857143,\n",
       "        73.46938776,  75.51020408,  77.55102041,  79.59183673,\n",
       "        81.63265306,  83.67346939,  85.71428571,  87.75510204,\n",
       "        89.79591837,  91.83673469,  93.87755102,  95.91836735,\n",
       "        97.95918367, 100.        ])"
      ]
     },
     "execution_count": 40,
     "metadata": {},
     "output_type": "execute_result"
    }
   ],
   "source": [
    "#Linspace\n",
    "np.linspace(0,100)"
   ]
  },
  {
   "cell_type": "code",
   "execution_count": 41,
   "id": "5781bb06",
   "metadata": {},
   "outputs": [
    {
     "name": "stdout",
     "output_type": "stream",
     "text": [
      "Print the Variable value : \n",
      "  [[ 1  2  3  4  5]\n",
      " [ 6  7  8  9 10]\n",
      " [ 1  2  3  4  5]\n",
      " [11 12 13 14 15]\n",
      " [20 25 30 35 40]] \n",
      "\n",
      "The shape of Variable :\n",
      " (5, 5) \n",
      "\n",
      "The shape of variables :\n",
      " 25 \n",
      "\n",
      "2nd element on 3rd row: 2\n",
      "1st element on 4th row: 11\n"
     ]
    }
   ],
   "source": [
    "# create a 5*5 array\n",
    "newArr= np.array([[1,2,3,4,5],[6,7,8,9,10],[1,2,3,4,5],[11,12,13,14,15],[20,25,30,35,40]])\n",
    "print(\"Print the Variable value : \\n \" ,newArr, \"\\n\")\n",
    "print(\"The shape of Variable :\\n\" ,newArr.shape, \"\\n\") # Prints \"(2,3)\"\\\n",
    "print(\"The shape of variables :\\n\" ,newArr.size, \"\\n\")\n",
    "#indexing using both row and column\n",
    "print('2nd element on 3rd row:',newArr[2,1])\n",
    "print('1st element on 4th row:',newArr[3,0])"
   ]
  },
  {
   "cell_type": "code",
   "execution_count": 42,
   "id": "ef9727d7",
   "metadata": {},
   "outputs": [
    {
     "name": "stdout",
     "output_type": "stream",
     "text": [
      "float64\n"
     ]
    }
   ],
   "source": [
    "#arr = np.array(1,2,3,4) # Let numpy choose the datatype\n",
    "arr = np.array([1.0,2.0])\n",
    "\n",
    "print(arr.dtype)"
   ]
  },
  {
   "cell_type": "code",
   "execution_count": 43,
   "id": "dff61913",
   "metadata": {},
   "outputs": [
    {
     "name": "stdout",
     "output_type": "stream",
     "text": [
      "<U6\n"
     ]
    }
   ],
   "source": [
    "arr = np.array(['apple','banana','cherry'])\n",
    "print(arr.dtype)"
   ]
  },
  {
   "cell_type": "code",
   "execution_count": 44,
   "id": "e131ce84",
   "metadata": {},
   "outputs": [
    {
     "name": "stdout",
     "output_type": "stream",
     "text": [
      "[1 2 3 4 5]\n",
      "int32\n"
     ]
    }
   ],
   "source": [
    "import numpy as np\n",
    "arr = np.array([1,2,3,4,5])\n",
    "print(arr)\n",
    "print(arr.dtype)"
   ]
  },
  {
   "cell_type": "code",
   "execution_count": 45,
   "id": "864f3871",
   "metadata": {},
   "outputs": [
    {
     "name": "stdout",
     "output_type": "stream",
     "text": [
      "[b'1' b'2' b'3' b'4' b'5']\n",
      "|S1\n"
     ]
    }
   ],
   "source": [
    "import numpy as np\n",
    "arr = np.array([1,2,3,4,5],dtype='S')\n",
    "print(arr)\n",
    "print(arr.dtype)"
   ]
  },
  {
   "cell_type": "code",
   "execution_count": 46,
   "id": "c87e6e22",
   "metadata": {},
   "outputs": [
    {
     "name": "stdout",
     "output_type": "stream",
     "text": [
      "[1 2 3 4 5]\n",
      "int32\n"
     ]
    }
   ],
   "source": [
    "arr = np.array([1,2,3,4,5])\n",
    "print(arr)\n",
    "print(arr.dtype)"
   ]
  },
  {
   "cell_type": "code",
   "execution_count": 47,
   "id": "0592d1fc",
   "metadata": {},
   "outputs": [
    {
     "name": "stdout",
     "output_type": "stream",
     "text": [
      "[1 2 3 4 5]\n",
      "int64\n"
     ]
    }
   ],
   "source": [
    "arr = np.array([1,2,3,4,5],dtype=np.int64)\n",
    "print(arr)\n",
    "print(arr.dtype)"
   ]
  },
  {
   "cell_type": "code",
   "execution_count": 48,
   "id": "938a651b",
   "metadata": {},
   "outputs": [
    {
     "name": "stdout",
     "output_type": "stream",
     "text": [
      "[1. 2. 3. 4. 5.]\n",
      "float64\n"
     ]
    }
   ],
   "source": [
    "arr = np.array([1,2,3,4,5],dtype=np.float64)\n",
    "print(arr)\n",
    "print(arr.dtype)"
   ]
  },
  {
   "cell_type": "code",
   "execution_count": 49,
   "id": "3f6a4ec7",
   "metadata": {},
   "outputs": [
    {
     "data": {
      "text/plain": [
       "array([1., 2., 3., 4., 5.])"
      ]
     },
     "execution_count": 49,
     "metadata": {},
     "output_type": "execute_result"
    }
   ],
   "source": [
    "arr"
   ]
  },
  {
   "cell_type": "code",
   "execution_count": 50,
   "id": "77d30497",
   "metadata": {},
   "outputs": [],
   "source": [
    "#Array math\n",
    "X=np.array([[1,2],[3,4]],dtype=np.float64)\n",
    "Y=np.array([[5,6],[7,8]],dtype=np.float64)\n"
   ]
  },
  {
   "cell_type": "code",
   "execution_count": 51,
   "id": "0c035fd6",
   "metadata": {},
   "outputs": [
    {
     "data": {
      "text/plain": [
       "array([[ 6.,  8.],\n",
       "       [10., 12.]])"
      ]
     },
     "execution_count": 51,
     "metadata": {},
     "output_type": "execute_result"
    }
   ],
   "source": [
    "X+Y"
   ]
  },
  {
   "cell_type": "code",
   "execution_count": 52,
   "id": "0b2bd557",
   "metadata": {},
   "outputs": [
    {
     "data": {
      "text/plain": [
       "array([[-4., -4.],\n",
       "       [-4., -4.]])"
      ]
     },
     "execution_count": 52,
     "metadata": {},
     "output_type": "execute_result"
    }
   ],
   "source": [
    "X-Y"
   ]
  },
  {
   "cell_type": "code",
   "execution_count": 53,
   "id": "4240f369",
   "metadata": {},
   "outputs": [
    {
     "data": {
      "text/plain": [
       "array([[-4., -4.],\n",
       "       [-4., -4.]])"
      ]
     },
     "execution_count": 53,
     "metadata": {},
     "output_type": "execute_result"
    }
   ],
   "source": [
    "np.subtract(X,Y)"
   ]
  },
  {
   "cell_type": "code",
   "execution_count": 54,
   "id": "70111210",
   "metadata": {},
   "outputs": [
    {
     "data": {
      "text/plain": [
       "array([[ 6.,  8.],\n",
       "       [10., 12.]])"
      ]
     },
     "execution_count": 54,
     "metadata": {},
     "output_type": "execute_result"
    }
   ],
   "source": [
    "np.add(X,Y)"
   ]
  },
  {
   "cell_type": "code",
   "execution_count": 55,
   "id": "fa7a9973",
   "metadata": {},
   "outputs": [
    {
     "data": {
      "text/plain": [
       "array([[ 5., 12.],\n",
       "       [21., 32.]])"
      ]
     },
     "execution_count": 55,
     "metadata": {},
     "output_type": "execute_result"
    }
   ],
   "source": [
    "np.multiply(X,Y)"
   ]
  },
  {
   "cell_type": "code",
   "execution_count": 56,
   "id": "372befe1",
   "metadata": {},
   "outputs": [
    {
     "data": {
      "text/plain": [
       "array([[0.2       , 0.33333333],\n",
       "       [0.42857143, 0.5       ]])"
      ]
     },
     "execution_count": 56,
     "metadata": {},
     "output_type": "execute_result"
    }
   ],
   "source": [
    "np.divide(X,Y)"
   ]
  },
  {
   "cell_type": "code",
   "execution_count": 57,
   "id": "84fa958a",
   "metadata": {},
   "outputs": [
    {
     "data": {
      "text/plain": [
       "array([[1.        , 1.41421356],\n",
       "       [1.73205081, 2.        ]])"
      ]
     },
     "execution_count": 57,
     "metadata": {},
     "output_type": "execute_result"
    }
   ],
   "source": [
    "np.sqrt(X,Y)"
   ]
  },
  {
   "cell_type": "code",
   "execution_count": 58,
   "id": "c2fea5ef",
   "metadata": {},
   "outputs": [
    {
     "data": {
      "text/plain": [
       "array([[1.        , 1.41421356],\n",
       "       [1.73205081, 2.        ]])"
      ]
     },
     "execution_count": 58,
     "metadata": {},
     "output_type": "execute_result"
    }
   ],
   "source": [
    "X/Y"
   ]
  },
  {
   "cell_type": "code",
   "execution_count": 59,
   "id": "1306b7c9",
   "metadata": {},
   "outputs": [],
   "source": [
    "X=np.array([[1,2],[3,4]],dtype=np.float64)\n",
    "Y=np.array([[5,6],[7,8],[9,10]],dtype=np.float64)"
   ]
  },
  {
   "cell_type": "code",
   "execution_count": 60,
   "id": "1b068938",
   "metadata": {},
   "outputs": [
    {
     "data": {
      "text/plain": [
       "(2, 2)"
      ]
     },
     "execution_count": 60,
     "metadata": {},
     "output_type": "execute_result"
    }
   ],
   "source": [
    "X.shape"
   ]
  },
  {
   "cell_type": "code",
   "execution_count": 61,
   "id": "f1e9c711",
   "metadata": {},
   "outputs": [
    {
     "data": {
      "text/plain": [
       "(3, 2)"
      ]
     },
     "execution_count": 61,
     "metadata": {},
     "output_type": "execute_result"
    }
   ],
   "source": [
    "Y.shape"
   ]
  },
  {
   "cell_type": "code",
   "execution_count": 62,
   "id": "72ea0720",
   "metadata": {},
   "outputs": [
    {
     "ename": "ValueError",
     "evalue": "operands could not be broadcast together with shapes (2,2) (3,2) ",
     "output_type": "error",
     "traceback": [
      "\u001b[1;31m---------------------------------------------------------------------------\u001b[0m",
      "\u001b[1;31mValueError\u001b[0m                                Traceback (most recent call last)",
      "\u001b[1;32m~\\AppData\\Local\\Temp/ipykernel_8560/3527450348.py\u001b[0m in \u001b[0;36m<module>\u001b[1;34m\u001b[0m\n\u001b[1;32m----> 1\u001b[1;33m \u001b[0mnp\u001b[0m\u001b[1;33m.\u001b[0m\u001b[0madd\u001b[0m\u001b[1;33m(\u001b[0m\u001b[0mX\u001b[0m\u001b[1;33m,\u001b[0m\u001b[0mY\u001b[0m\u001b[1;33m)\u001b[0m\u001b[1;33m\u001b[0m\u001b[1;33m\u001b[0m\u001b[0m\n\u001b[0m",
      "\u001b[1;31mValueError\u001b[0m: operands could not be broadcast together with shapes (2,2) (3,2) "
     ]
    }
   ],
   "source": [
    "np.add(X,Y)"
   ]
  },
  {
   "cell_type": "code",
   "execution_count": null,
   "id": "cd0103cc",
   "metadata": {},
   "outputs": [],
   "source": [
    "X"
   ]
  },
  {
   "cell_type": "code",
   "execution_count": null,
   "id": "b51343cd",
   "metadata": {},
   "outputs": [],
   "source": [
    "np.exp(X)"
   ]
  },
  {
   "cell_type": "code",
   "execution_count": null,
   "id": "39a52662",
   "metadata": {},
   "outputs": [],
   "source": [
    "np.log(X)"
   ]
  },
  {
   "cell_type": "code",
   "execution_count": null,
   "id": "46fa3845",
   "metadata": {},
   "outputs": [],
   "source": [
    "np.cos(X)"
   ]
  },
  {
   "cell_type": "code",
   "execution_count": null,
   "id": "11a15301",
   "metadata": {},
   "outputs": [],
   "source": [
    "np.tan(X)"
   ]
  },
  {
   "cell_type": "code",
   "execution_count": null,
   "id": "0c812c80",
   "metadata": {},
   "outputs": [],
   "source": [
    "#Floor,ceil,Round\n",
    "X=np.array([[1.5,2.5],[3.1,4.9]],dtype=np.float64)"
   ]
  },
  {
   "cell_type": "code",
   "execution_count": null,
   "id": "4e15c39c",
   "metadata": {},
   "outputs": [],
   "source": [
    "X"
   ]
  },
  {
   "cell_type": "code",
   "execution_count": null,
   "id": "85216f18",
   "metadata": {},
   "outputs": [],
   "source": [
    "np.floor(X)"
   ]
  },
  {
   "cell_type": "code",
   "execution_count": null,
   "id": "65ff9c31",
   "metadata": {},
   "outputs": [],
   "source": [
    "np.floor( X)"
   ]
  },
  {
   "cell_type": "code",
   "execution_count": null,
   "id": "9ddd3fcd",
   "metadata": {},
   "outputs": [],
   "source": [
    "np.ceil(X)"
   ]
  },
  {
   "cell_type": "code",
   "execution_count": null,
   "id": "1b838166",
   "metadata": {},
   "outputs": [],
   "source": [
    "np.round(X)"
   ]
  },
  {
   "cell_type": "code",
   "execution_count": null,
   "id": "23e3f43a",
   "metadata": {},
   "outputs": [],
   "source": [
    "X=np.array([[1,2],[3,4]],dtype=np.float64)\n",
    "Y=np.array([[5,6],[7,8]],dtype=np.float64)\n",
    "Z=np.array([[9,10],[11,12]],dtype=np.float64)"
   ]
  },
  {
   "cell_type": "code",
   "execution_count": null,
   "id": "4029cfcd",
   "metadata": {},
   "outputs": [],
   "source": [
    "X*Y*Z"
   ]
  },
  {
   "cell_type": "code",
   "execution_count": null,
   "id": "95d838ef",
   "metadata": {},
   "outputs": [],
   "source": [
    "np.multiply(X,Y,Z)"
   ]
  },
  {
   "cell_type": "code",
   "execution_count": null,
   "id": "1394b3e3",
   "metadata": {},
   "outputs": [],
   "source": [
    "import numpy as np\n",
    "X=np.array([[1,2],[3,4],[5,6]])\n",
    "Y=np.array([[5,6],[7,8]])\n",
    "V=np.array([9,10])\n",
    "w=np.array([11,12])"
   ]
  },
  {
   "cell_type": "code",
   "execution_count": null,
   "id": "36a1bfcb",
   "metadata": {},
   "outputs": [],
   "source": [
    "v.dot(w)"
   ]
  },
  {
   "cell_type": "code",
   "execution_count": null,
   "id": "6190ac4a",
   "metadata": {},
   "outputs": [],
   "source": [
    "np.dot(v,w)"
   ]
  },
  {
   "cell_type": "code",
   "execution_count": null,
   "id": "a10bbb18",
   "metadata": {},
   "outputs": [],
   "source": [
    "X\n"
   ]
  },
  {
   "cell_type": "code",
   "execution_count": null,
   "id": "33e088ba",
   "metadata": {},
   "outputs": [],
   "source": [
    "X.shape"
   ]
  },
  {
   "cell_type": "code",
   "execution_count": null,
   "id": "5ba410c2",
   "metadata": {},
   "outputs": [],
   "source": [
    "np.sum(X)"
   ]
  },
  {
   "cell_type": "code",
   "execution_count": null,
   "id": "92de2c74",
   "metadata": {},
   "outputs": [],
   "source": [
    "np.sum(X,axis=0)"
   ]
  },
  {
   "cell_type": "code",
   "execution_count": null,
   "id": "ca399fa1",
   "metadata": {},
   "outputs": [],
   "source": [
    "x=np.array([[1,2,3],[4,5,6],[7,8,9]])"
   ]
  },
  {
   "cell_type": "code",
   "execution_count": null,
   "id": "04835e7f",
   "metadata": {},
   "outputs": [],
   "source": [
    "x"
   ]
  },
  {
   "cell_type": "code",
   "execution_count": null,
   "id": "5390601a",
   "metadata": {},
   "outputs": [],
   "source": [
    "np.sum(X,axis=0)"
   ]
  },
  {
   "cell_type": "code",
   "execution_count": null,
   "id": "7944c615",
   "metadata": {},
   "outputs": [],
   "source": [
    "x"
   ]
  },
  {
   "cell_type": "code",
   "execution_count": null,
   "id": "cdb96e79",
   "metadata": {},
   "outputs": [],
   "source": [
    "x.T"
   ]
  },
  {
   "cell_type": "code",
   "execution_count": null,
   "id": "4128664a",
   "metadata": {},
   "outputs": [],
   "source": [
    "np.sum(X,axis=1)"
   ]
  },
  {
   "cell_type": "code",
   "execution_count": null,
   "id": "6bfc4b92",
   "metadata": {},
   "outputs": [],
   "source": [
    "#Numpy Array copy vs view\n",
    "arr=np.array([1,2,3,4,5])\n",
    "X=arr"
   ]
  },
  {
   "cell_type": "code",
   "execution_count": null,
   "id": "10c6b675",
   "metadata": {},
   "outputs": [],
   "source": [
    "print(arr)"
   ]
  },
  {
   "cell_type": "code",
   "execution_count": null,
   "id": "599ba6a5",
   "metadata": {},
   "outputs": [],
   "source": [
    "print(X)"
   ]
  },
  {
   "cell_type": "code",
   "execution_count": null,
   "id": "a2a7ac30",
   "metadata": {},
   "outputs": [],
   "source": [
    "arr[0]=100"
   ]
  },
  {
   "cell_type": "code",
   "execution_count": null,
   "id": "e7b50f75",
   "metadata": {},
   "outputs": [],
   "source": [
    "print(arr)"
   ]
  },
  {
   "cell_type": "code",
   "execution_count": null,
   "id": "318981b2",
   "metadata": {},
   "outputs": [],
   "source": [
    "print(X)"
   ]
  },
  {
   "cell_type": "code",
   "execution_count": null,
   "id": "10fd712b",
   "metadata": {},
   "outputs": [],
   "source": [
    "X[1]=200"
   ]
  },
  {
   "cell_type": "code",
   "execution_count": null,
   "id": "e11f9083",
   "metadata": {},
   "outputs": [],
   "source": [
    "print(X)"
   ]
  },
  {
   "cell_type": "code",
   "execution_count": null,
   "id": "9d4718f1",
   "metadata": {},
   "outputs": [],
   "source": [
    "#Numpy Array copy\n",
    "arr=np.array([1,2,3,4,5])\n",
    "x=arr.copy()"
   ]
  },
  {
   "cell_type": "code",
   "execution_count": null,
   "id": "ddc3fbcc",
   "metadata": {},
   "outputs": [],
   "source": [
    "print(arr)"
   ]
  },
  {
   "cell_type": "code",
   "execution_count": null,
   "id": "eb23adf5",
   "metadata": {},
   "outputs": [],
   "source": [
    "print(X)"
   ]
  },
  {
   "cell_type": "code",
   "execution_count": null,
   "id": "3ab3b9d9",
   "metadata": {},
   "outputs": [],
   "source": [
    "arr[0]=100"
   ]
  },
  {
   "cell_type": "code",
   "execution_count": null,
   "id": "f8a9bc55",
   "metadata": {},
   "outputs": [],
   "source": [
    "print(arr)"
   ]
  },
  {
   "cell_type": "code",
   "execution_count": null,
   "id": "f075f5e2",
   "metadata": {},
   "outputs": [],
   "source": [
    "print(X)"
   ]
  },
  {
   "cell_type": "code",
   "execution_count": null,
   "id": "53b6af4a",
   "metadata": {},
   "outputs": [],
   "source": [
    "X[1]=100"
   ]
  },
  {
   "cell_type": "code",
   "execution_count": null,
   "id": "2a4049aa",
   "metadata": {},
   "outputs": [],
   "source": [
    "print(X)"
   ]
  },
  {
   "cell_type": "code",
   "execution_count": null,
   "id": "c91abffb",
   "metadata": {},
   "outputs": [],
   "source": [
    "print(arr)"
   ]
  },
  {
   "cell_type": "code",
   "execution_count": null,
   "id": "f180901a",
   "metadata": {},
   "outputs": [],
   "source": [
    "#Numpy Array copy\n",
    "arr=np.array([1,2,3,4,5])\n",
    "x=arr.copy()"
   ]
  },
  {
   "cell_type": "code",
   "execution_count": null,
   "id": "e571cb4d",
   "metadata": {},
   "outputs": [],
   "source": [
    "print(arr)"
   ]
  },
  {
   "cell_type": "code",
   "execution_count": null,
   "id": "319732fb",
   "metadata": {},
   "outputs": [],
   "source": [
    "print(x)"
   ]
  },
  {
   "cell_type": "code",
   "execution_count": null,
   "id": "11e9321a",
   "metadata": {},
   "outputs": [],
   "source": [
    "print(arr)"
   ]
  },
  {
   "cell_type": "code",
   "execution_count": null,
   "id": "2e3014a1",
   "metadata": {},
   "outputs": [],
   "source": [
    "arr[0]=100"
   ]
  },
  {
   "cell_type": "code",
   "execution_count": null,
   "id": "52be84ff",
   "metadata": {},
   "outputs": [],
   "source": [
    "print(arr)"
   ]
  },
  {
   "cell_type": "code",
   "execution_count": null,
   "id": "fb223927",
   "metadata": {},
   "outputs": [],
   "source": [
    "print(x)"
   ]
  },
  {
   "cell_type": "code",
   "execution_count": null,
   "id": "d5035552",
   "metadata": {},
   "outputs": [],
   "source": [
    "x[1]=100"
   ]
  },
  {
   "cell_type": "code",
   "execution_count": null,
   "id": "94812dcf",
   "metadata": {},
   "outputs": [],
   "source": [
    "print(x)"
   ]
  },
  {
   "cell_type": "code",
   "execution_count": null,
   "id": "d3eb845d",
   "metadata": {},
   "outputs": [],
   "source": [
    "print(arr)"
   ]
  },
  {
   "cell_type": "code",
   "execution_count": null,
   "id": "991c9a5b",
   "metadata": {},
   "outputs": [],
   "source": [
    "#Numpy Array reshaping\n",
    "arr=np.array([1,2,3,4,5,6,7,8,9,10,11,12])\n"
   ]
  },
  {
   "cell_type": "code",
   "execution_count": null,
   "id": "ddb2adb6",
   "metadata": {},
   "outputs": [],
   "source": [
    "np.arange(13)"
   ]
  },
  {
   "cell_type": "code",
   "execution_count": null,
   "id": "2effb0f6",
   "metadata": {},
   "outputs": [],
   "source": [
    "np.arange(5,13)"
   ]
  },
  {
   "cell_type": "code",
   "execution_count": null,
   "id": "d0034e22",
   "metadata": {},
   "outputs": [],
   "source": [
    "#Numpy Array Reshaping\n",
    "arr=np.arange(1,13)\n",
    "arr.shape"
   ]
  },
  {
   "cell_type": "code",
   "execution_count": null,
   "id": "fa4aa280",
   "metadata": {},
   "outputs": [],
   "source": [
    "arr.reshape(4,3)"
   ]
  },
  {
   "cell_type": "code",
   "execution_count": null,
   "id": "2624f9e4",
   "metadata": {},
   "outputs": [],
   "source": [
    "arr.reshape(3,4)"
   ]
  },
  {
   "cell_type": "code",
   "execution_count": null,
   "id": "491b3f4e",
   "metadata": {},
   "outputs": [],
   "source": [
    "arr.reshape(4,3)"
   ]
  },
  {
   "cell_type": "code",
   "execution_count": null,
   "id": "e4749633",
   "metadata": {},
   "outputs": [],
   "source": [
    "arr_new=arr.reshape(4,3)"
   ]
  },
  {
   "cell_type": "code",
   "execution_count": null,
   "id": "5b889f74",
   "metadata": {},
   "outputs": [],
   "source": [
    "#Flattening the arrays\n",
    "#2D==>1D\n",
    "arr_new.reshape(-1)"
   ]
  },
  {
   "cell_type": "code",
   "execution_count": 64,
   "id": "32ff9026",
   "metadata": {},
   "outputs": [
    {
     "data": {
      "text/plain": [
       "array([ 9, 12])"
      ]
     },
     "execution_count": 64,
     "metadata": {},
     "output_type": "execute_result"
    }
   ],
   "source": [
    "#Iterating Arrays\n",
    "np.arange(1,7).reshape(3,2).sum(axis=0)"
   ]
  },
  {
   "cell_type": "code",
   "execution_count": 66,
   "id": "05131dbe",
   "metadata": {},
   "outputs": [],
   "source": [
    "#Iterating Arrays\n",
    "arr=np.arange(1,7).reshape(3,2)"
   ]
  },
  {
   "cell_type": "code",
   "execution_count": 67,
   "id": "a64144ab",
   "metadata": {},
   "outputs": [
    {
     "data": {
      "text/plain": [
       "array([[1, 2],\n",
       "       [3, 4],\n",
       "       [5, 6]])"
      ]
     },
     "execution_count": 67,
     "metadata": {},
     "output_type": "execute_result"
    }
   ],
   "source": [
    "arr"
   ]
  },
  {
   "cell_type": "code",
   "execution_count": 68,
   "id": "96786f5b",
   "metadata": {},
   "outputs": [
    {
     "name": "stdout",
     "output_type": "stream",
     "text": [
      "[1 2]\n",
      "[3 4]\n",
      "[5 6]\n"
     ]
    }
   ],
   "source": [
    "for x in arr:\n",
    "    print(x)"
   ]
  },
  {
   "cell_type": "code",
   "execution_count": 69,
   "id": "a54dea51",
   "metadata": {},
   "outputs": [],
   "source": [
    "#Joining Numpy Arrays#10\n",
    "arr1=np.array([1,2,3])\n",
    "arr2=np.array([4,5,6])"
   ]
  },
  {
   "cell_type": "code",
   "execution_count": 70,
   "id": "51ceff46",
   "metadata": {},
   "outputs": [
    {
     "data": {
      "text/plain": [
       "array([1, 2, 3, 4, 5, 6])"
      ]
     },
     "execution_count": 70,
     "metadata": {},
     "output_type": "execute_result"
    }
   ],
   "source": [
    "np.concatenate((arr1,arr2))"
   ]
  },
  {
   "cell_type": "code",
   "execution_count": 72,
   "id": "002fe813",
   "metadata": {},
   "outputs": [
    {
     "data": {
      "text/plain": [
       "array([[1, 2],\n",
       "       [3, 4],\n",
       "       [5, 6],\n",
       "       [7, 8]])"
      ]
     },
     "execution_count": 72,
     "metadata": {},
     "output_type": "execute_result"
    }
   ],
   "source": [
    "#Join two 2D arrays along rows(axis=1)\n",
    "arr1=np.array([[1,2],[3,4]])\n",
    "arr2=np.array([[5,6],[7,8]])\n",
    "np.concatenate((arr1,arr2))"
   ]
  },
  {
   "cell_type": "code",
   "execution_count": 73,
   "id": "2caeb77e",
   "metadata": {},
   "outputs": [
    {
     "data": {
      "text/plain": [
       "array([[1, 2],\n",
       "       [3, 4]])"
      ]
     },
     "execution_count": 73,
     "metadata": {},
     "output_type": "execute_result"
    }
   ],
   "source": [
    "arr1"
   ]
  },
  {
   "cell_type": "code",
   "execution_count": 74,
   "id": "bdd6fd1d",
   "metadata": {},
   "outputs": [
    {
     "data": {
      "text/plain": [
       "array([[5, 6],\n",
       "       [7, 8]])"
      ]
     },
     "execution_count": 74,
     "metadata": {},
     "output_type": "execute_result"
    }
   ],
   "source": [
    "arr2"
   ]
  },
  {
   "cell_type": "code",
   "execution_count": null,
   "id": "26f09b85",
   "metadata": {},
   "outputs": [],
   "source": []
  }
 ],
 "metadata": {
  "kernelspec": {
   "display_name": "Python 3 (ipykernel)",
   "language": "python",
   "name": "python3"
  },
  "language_info": {
   "codemirror_mode": {
    "name": "ipython",
    "version": 3
   },
   "file_extension": ".py",
   "mimetype": "text/x-python",
   "name": "python",
   "nbconvert_exporter": "python",
   "pygments_lexer": "ipython3",
   "version": "3.9.7"
  }
 },
 "nbformat": 4,
 "nbformat_minor": 5
}
